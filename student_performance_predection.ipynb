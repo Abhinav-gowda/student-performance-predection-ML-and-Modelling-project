{
  "cells": [
    {
      "cell_type": "markdown",
      "metadata": {
        "id": "view-in-github",
        "colab_type": "text"
      },
      "source": [
        "<a href=\"https://colab.research.google.com/github/Abhinav-gowda/student-performance-predection-ML-and-Modelling-project/blob/main/student_performance_predection.ipynb\" target=\"_parent\"><img src=\"https://colab.research.google.com/assets/colab-badge.svg\" alt=\"Open In Colab\"/></a>"
      ]
    },
    {
      "cell_type": "code",
      "execution_count": null,
      "metadata": {
        "id": "b79b63a6"
      },
      "outputs": [],
      "source": [
        "import pandas as pd\n",
        "\n",
        "df = pd.read_csv('/content/StudentPerformanceFactors.csv')"
      ]
    },
    {
      "cell_type": "markdown",
      "metadata": {
        "id": "53036992"
      },
      "source": [
        "**Reasoning**:\n",
        "Display the first few rows of the DataFrame to verify successful loading.\n",
        "\n"
      ]
    },
    {
      "cell_type": "code",
      "execution_count": null,
      "metadata": {
        "id": "76058225"
      },
      "outputs": [],
      "source": [
        "df.head()"
      ]
    },
    {
      "cell_type": "markdown",
      "metadata": {
        "id": "a7933b46"
      },
      "source": [
        "## Explore and preprocess the data\n",
        "\n",
        "### Subtask:\n",
        "Analyze the dataset to understand its structure, identify missing values, and handle categorical features. This might involve steps like one-hot encoding or label encoding.\n"
      ]
    },
    {
      "cell_type": "markdown",
      "metadata": {
        "id": "070d1a95"
      },
      "source": [
        "**Reasoning**:\n",
        "Print the concise summary of the DataFrame to understand its structure, including the index dtype and column dtypes, non-null values and memory usage, and then check for missing values in each column and display the count of missing values for each column.\n",
        "\n"
      ]
    },
    {
      "cell_type": "code",
      "execution_count": null,
      "metadata": {
        "id": "4e6d84ac"
      },
      "outputs": [],
      "source": [
        "df.info()\n",
        "print('\\nMissing values per column:')\n",
        "print(df.isnull().sum())"
      ]
    },
    {
      "cell_type": "markdown",
      "metadata": {
        "id": "1d4f3f79"
      },
      "source": [
        "**Reasoning**:\n",
        "Identify the categorical columns and apply one-hot encoding to them, handling missing values in categorical columns if any.\n",
        "\n"
      ]
    },
    {
      "cell_type": "code",
      "execution_count": null,
      "metadata": {
        "id": "b9422300"
      },
      "outputs": [],
      "source": [
        "categorical_cols = df.select_dtypes(include='object').columns\n",
        "\n",
        "# Handle missing values in categorical columns by filling with mode\n",
        "for col in ['Teacher_Quality', 'Parental_Education_Level', 'Distance_from_Home']:\n",
        "    if col in categorical_cols:\n",
        "        df[col].fillna(df[col].mode()[0], inplace=True)\n",
        "\n",
        "df_encoded = pd.get_dummies(df, columns=categorical_cols, dummy_na=False)\n",
        "display(df_encoded.head())"
      ]
    },
    {
      "cell_type": "markdown",
      "metadata": {
        "id": "8ae89ced"
      },
      "source": [
        "## Split the data\n",
        "\n",
        "### Subtask:\n",
        "Split the data into training and testing sets to evaluate the model's performance on unseen data.\n"
      ]
    },
    {
      "cell_type": "markdown",
      "metadata": {
        "id": "c4d0c9af"
      },
      "source": [
        "**Reasoning**:\n",
        "Import the train_test_split function and then split the encoded data into training and testing sets, defining features and target variable.\n",
        "\n"
      ]
    },
    {
      "cell_type": "code",
      "execution_count": null,
      "metadata": {
        "id": "f1b79962"
      },
      "outputs": [],
      "source": [
        "from sklearn.model_selection import train_test_split\n",
        "\n",
        "X = df_encoded.drop('Exam_Score', axis=1)\n",
        "y = df_encoded['Exam_Score']\n",
        "\n",
        "X_train, X_test, y_train, y_test = train_test_split(X, y, test_size=0.2, random_state=42)"
      ]
    },
    {
      "cell_type": "markdown",
      "metadata": {
        "id": "5123b625"
      },
      "source": [
        "## Choose and train a model\n",
        "\n",
        "### Subtask:\n",
        "Select a suitable regression model (e.g., Linear Regression, Ridge, Lasso, or a tree-based model like RandomForestRegressor) and train it on the training data.\n"
      ]
    },
    {
      "cell_type": "markdown",
      "metadata": {
        "id": "e6a06672"
      },
      "source": [
        "**Reasoning**:\n",
        "Train a RandomForestRegressor model on the training data.\n",
        "\n"
      ]
    },
    {
      "cell_type": "code",
      "execution_count": null,
      "metadata": {
        "id": "0c0b235d"
      },
      "outputs": [],
      "source": [
        "from sklearn.ensemble import RandomForestRegressor\n",
        "\n",
        "model = RandomForestRegressor(random_state=42)\n",
        "model.fit(X_train, y_train)"
      ]
    },
    {
      "cell_type": "markdown",
      "metadata": {
        "id": "02b3120d"
      },
      "source": [
        "## Evaluate the model\n",
        "\n",
        "### Subtask:\n",
        "Evaluate the trained model using appropriate metrics like R², Mean Absolute Error (MAE), and Root Mean Squared Error (RMSE).\n"
      ]
    },
    {
      "cell_type": "markdown",
      "metadata": {
        "id": "f85561d9"
      },
      "source": [
        "**Reasoning**:\n",
        "Calculate MAE, RMSE, and R² score to evaluate the model's performance on the test set.\n",
        "\n"
      ]
    },
    {
      "cell_type": "code",
      "execution_count": null,
      "metadata": {
        "id": "69e0ab42"
      },
      "outputs": [],
      "source": [
        "from sklearn.metrics import mean_absolute_error, mean_squared_error, r2_score\n",
        "import numpy as np\n",
        "\n",
        "y_pred = model.predict(X_test)\n",
        "\n",
        "mae = mean_absolute_error(y_test, y_pred)\n",
        "rmse = np.sqrt(mean_squared_error(y_test, y_pred))\n",
        "r2 = r2_score(y_test, y_pred)\n",
        "\n",
        "print(f'Mean Absolute Error (MAE): {mae:.2f}')\n",
        "print(f'Root Mean Squared Error (RMSE): {rmse:.2f}')\n",
        "print(f'R-squared (R²): {r2:.2f}')"
      ]
    },
    {
      "cell_type": "markdown",
      "metadata": {
        "id": "e9a3b6bd"
      },
      "source": [
        "## Visualize results\n",
        "\n",
        "### Subtask:\n",
        "Create visualizations to show the model's predictions and explore the relationships between features and student performance.\n"
      ]
    },
    {
      "cell_type": "markdown",
      "metadata": {
        "id": "4520fcf4"
      },
      "source": [
        "**Reasoning**:\n",
        "Create visualizations to show the model's predictions and explore the relationships between features and student performance.\n",
        "\n"
      ]
    },
    {
      "cell_type": "code",
      "execution_count": null,
      "metadata": {
        "id": "b99b3430"
      },
      "outputs": [],
      "source": [
        "import matplotlib.pyplot as plt\n",
        "import seaborn as sns\n",
        "\n",
        "# Scatter plot of Actual vs. Predicted Exam Scores\n",
        "plt.figure(figsize=(8, 6))\n",
        "plt.scatter(y_test, y_pred, alpha=0.5)\n",
        "plt.plot([y_test.min(), y_test.max()], [y_test.min(), y_test.max()], 'k--', lw=2) # Diagonal line\n",
        "plt.xlabel(\"Actual Exam Score\")\n",
        "plt.ylabel(\"Predicted Exam Score\")\n",
        "plt.title(\"Actual vs. Predicted Exam Scores\")\n",
        "plt.grid(True)\n",
        "plt.show()\n",
        "\n",
        "# Histogram of Residuals\n",
        "residuals = y_test - y_pred\n",
        "plt.figure(figsize=(8, 6))\n",
        "sns.histplot(residuals, kde=True)\n",
        "plt.xlabel(\"Residuals (Actual - Predicted)\")\n",
        "plt.ylabel(\"Frequency\")\n",
        "plt.title(\"Histogram of Residuals\")\n",
        "plt.show()"
      ]
    },
    {
      "cell_type": "markdown",
      "metadata": {
        "id": "e4f19fd2"
      },
      "source": [
        "## Analyze feature importance\n",
        "\n",
        "### Subtask:\n",
        "Analyze which features have the most significant impact on student performance using the trained Random Forest Regressor model.\n"
      ]
    },
    {
      "cell_type": "markdown",
      "metadata": {
        "id": "c381248f"
      },
      "source": [
        "**Reasoning**:\n",
        "Access the feature importances from the trained Random Forest model, create a pandas Series, sort it, and then visualize the top features.\n",
        "\n"
      ]
    },
    {
      "cell_type": "code",
      "execution_count": null,
      "metadata": {
        "id": "a8a3f396"
      },
      "outputs": [],
      "source": [
        "import matplotlib.pyplot as plt\n",
        "import seaborn as sns\n",
        "\n",
        "# Get feature importances\n",
        "feature_importances = model.feature_importances_\n",
        "\n",
        "# Create a pandas Series with feature names as index\n",
        "feature_importance_series = pd.Series(feature_importances, index=X_train.columns)\n",
        "\n",
        "# Sort feature importances in descending order\n",
        "sorted_feature_importances = feature_importance_series.sort_values(ascending=False)\n",
        "\n",
        "# Select the top N features (e.g., top 15)\n",
        "top_n = 15\n",
        "top_features = sorted_feature_importances.head(top_n)\n",
        "\n",
        "# Create a bar plot of the top N most important features\n",
        "plt.figure(figsize=(12, 8))\n",
        "sns.barplot(x=top_features.values, y=top_features.index)\n",
        "plt.xlabel('Feature Importance')\n",
        "plt.ylabel('Feature')\n",
        "plt.title(f'Top {top_n} Most Important Features for Student Performance Prediction')\n",
        "plt.tight_layout()\n",
        "plt.show()\n",
        "\n",
        "# Print the sorted feature importances\n",
        "print(\"Sorted Feature Importances:\")\n",
        "display(sorted_feature_importances)"
      ]
    },
    {
      "cell_type": "markdown",
      "metadata": {
        "id": "cbe181fa"
      },
      "source": [
        "## Summarize findings\n",
        "\n",
        "### Subtask:\n",
        "Present the model evaluation results, visualizations, and analytical insights in a clear and concise manner.\n"
      ]
    },
    {
      "cell_type": "markdown",
      "metadata": {
        "id": "e2c16a9e"
      },
      "source": [
        "**Reasoning**:\n",
        "Combine the model evaluation metrics, visualization insights, and feature importance analysis into a comprehensive summary.\n",
        "\n"
      ]
    },
    {
      "cell_type": "code",
      "execution_count": null,
      "metadata": {
        "id": "17e3c583"
      },
      "outputs": [],
      "source": [
        "print(\"## Model Evaluation and Insights Summary\")\n",
        "\n",
        "print(\"\\n### Model Performance Metrics\")\n",
        "print(f\"Mean Absolute Error (MAE): {mae:.2f}\")\n",
        "print(f\"Root Mean Squared Error (RMSE): {rmse:.2f}\")\n",
        "print(f\"R-squared (R²): {r2:.2f}\")\n",
        "print(\"\\nInterpretation:\")\n",
        "print(f\"- MAE indicates that, on average, the model's predictions are off by approximately {mae:.2f} exam score points.\")\n",
        "print(f\"- RMSE provides a similar measure of error magnitude, with a value of {rmse:.2f}.\")\n",
        "print(f\"- R² suggests that approximately {r2:.0%} of the variance in exam scores can be explained by the features in the model.\")\n",
        "\n",
        "print(\"\\n### Insights from Visualizations\")\n",
        "print(\"The scatter plot of actual vs. predicted exam scores shows a positive correlation, with points generally clustering around the diagonal line.\")\n",
        "print(\"This indicates that the model is capturing the overall trend in student performance, although there is some spread, suggesting room for improvement.\")\n",
        "print(\"The histogram of residuals shows that the errors are roughly centered around zero and appear somewhat normally distributed.\")\n",
        "print(\"This suggests that the model's errors are not strongly biased in one direction.\")\n",
        "\n",
        "print(\"\\n### Key Takeaways from Feature Importance Analysis\")\n",
        "print(f\"The analysis of feature importance revealed the top {top_n} most influential factors in predicting student performance:\")\n",
        "display(top_features)\n",
        "print(\"\\nInterpretation of Top Features:\")\n",
        "print(\"- **Attendance** and **Hours_Studied** are the most significant predictors, highlighting the direct impact of student effort and presence.\")\n",
        "print(\"- **Previous_Scores** is also a strong indicator, suggesting that past academic performance is a key determinant of future success.\")\n",
        "print(\"- Other important factors include **Tutoring_Sessions**, **Physical_Activity**, and **Sleep_Hours**, which relate to support systems, well-being, and study habits.\")\n",
        "print(\"- Factors like **Access_to_Resources_High**, **Parental_Involvement**, and **Family_Income_High** also play a notable role, indicating the influence of external support and socioeconomic factors.\")"
      ]
    },
    {
      "cell_type": "markdown",
      "metadata": {
        "id": "dd2de415"
      },
      "source": [
        "## Summary:\n",
        "\n",
        "### Data Analysis Key Findings\n",
        "\n",
        "*   The dataset contains 6607 entries with 20 columns covering various factors related to student performance.\n",
        "*   Missing values were found in 'Teacher\\_Quality' (78), 'Parental\\_Education\\_Level' (90), and 'Distance\\_from\\_Home' (67) columns.\n",
        "*   Missing categorical values were successfully imputed with the mode of their respective columns.\n",
        "*   Categorical features were successfully converted into numerical format using one-hot encoding, resulting in 41 columns in the encoded DataFrame.\n",
        "*   The data was split into training (80%) and testing (20%) sets for model training and evaluation.\n",
        "*   A Random Forest Regressor model was trained on the training data.\n",
        "*   The model evaluation metrics are: Mean Absolute Error (MAE): 1.08, Root Mean Squared Error (RMSE): 2.17, and R-squared (R²): 0.67. This indicates that the model's predictions are, on average, off by about 1.08 exam score points, and it explains approximately 67% of the variance in exam scores.\n",
        "*   Visualizations show a positive correlation between actual and predicted exam scores, with predictions generally clustering around the ideal line, indicating the model captures the overall trend.\n",
        "*   The histogram of residuals suggests that prediction errors are roughly centered around zero and somewhat normally distributed, implying no strong directional bias in errors.\n",
        "*   Feature importance analysis identified 'Attendance' and 'Hours\\_Studied' as the most significant predictors of student performance.\n",
        "*   'Previous\\_Scores' is also a strong predictor, followed by factors like 'Tutoring\\_Sessions', 'Physical\\_Activity', and 'Sleep\\_Hours'.\n",
        "*   Factors related to external support and socioeconomic status, such as 'Access\\_to\\_Resources\\_High', 'Parental\\_Involvement', and 'Family\\_Income\\_High', also showed notable importance.\n",
        "\n",
        "### Insights or Next Steps\n",
        "\n",
        "*   The current model provides a good baseline (R²=0.67), but exploring other regression algorithms or hyperparameter tuning could potentially improve performance.\n",
        "*   The identified key features (Attendance, Hours Studied, Previous Scores) provide actionable insights for educators and parents to focus interventions on improving these factors to enhance student performance.\n"
      ]
    },
    {
      "cell_type": "markdown",
      "metadata": {
        "id": "4af10207"
      },
      "source": [
        "# Task\n",
        "Create a simple web application in Google Colab that uses the trained `RandomForestRegressor` model to predict student exam scores based on user input. The web app should have an interface for users to enter feature values and display the predicted score."
      ]
    },
    {
      "cell_type": "markdown",
      "metadata": {
        "id": "aac30177"
      },
      "source": [
        "## Save the trained model\n",
        "\n",
        "### Subtask:\n",
        "Save the trained `RandomForestRegressor` model to a file so it can be loaded later by the web app.\n"
      ]
    },
    {
      "cell_type": "markdown",
      "metadata": {
        "id": "d8744095"
      },
      "source": [
        "**Reasoning**:\n",
        "Save the trained RandomForestRegressor model to a file using joblib.\n",
        "\n"
      ]
    },
    {
      "cell_type": "code",
      "execution_count": null,
      "metadata": {
        "id": "6b4aca37"
      },
      "outputs": [],
      "source": [
        "import joblib\n",
        "\n",
        "joblib.dump(model, 'random_forest_model.joblib')"
      ]
    },
    {
      "cell_type": "markdown",
      "metadata": {
        "id": "9151a422"
      },
      "source": [
        "## Create a prediction function\n",
        "\n",
        "### Subtask:\n",
        "Define a Python function that takes user input for the relevant features, preprocesses it to match the format expected by the model, and returns a predicted exam score.\n"
      ]
    },
    {
      "cell_type": "markdown",
      "metadata": {
        "id": "ce2d1987"
      },
      "source": [
        "**Reasoning**:\n",
        "Define a function to take user input, preprocess it, load the saved model, and predict the exam score.\n",
        "\n"
      ]
    },
    {
      "cell_type": "code",
      "execution_count": null,
      "metadata": {
        "id": "06220a96"
      },
      "outputs": [],
      "source": [
        "import joblib\n",
        "import pandas as pd\n",
        "\n",
        "def predict_exam_score(input_features):\n",
        "    \"\"\"\n",
        "    Predicts student exam score based on input features.\n",
        "\n",
        "    Args:\n",
        "        input_features (dict): A dictionary where keys are feature names\n",
        "                               and values are the input values.\n",
        "\n",
        "    Returns:\n",
        "        float: The predicted exam score.\n",
        "    \"\"\"\n",
        "    # Create a DataFrame from the input features\n",
        "    input_df = pd.DataFrame([input_features])\n",
        "\n",
        "    # Ensure column order matches training data\n",
        "    # This is crucial for correct prediction with one-hot encoded features\n",
        "    # Assuming X_train.columns is available from previous steps\n",
        "    # (if not, you would need to load the training feature names or recreate them)\n",
        "    input_df = input_df.reindex(columns=X_train.columns, fill_value=0)\n",
        "\n",
        "    # Load the trained model\n",
        "    loaded_model = joblib.load('random_forest_model.joblib')\n",
        "\n",
        "    # Make prediction\n",
        "    predicted_score = loaded_model.predict(input_df)[0]\n",
        "\n",
        "    return predicted_score\n",
        "\n",
        "# Example usage (replace with actual input logic in the web app)\n",
        "# This is just for testing the function\n",
        "# Example input dictionary - make sure to match the structure of your one-hot encoded features\n",
        "# You would need to dynamically create this dictionary based on user input from the web form\n",
        "example_input = {\n",
        "    'Hours_Studied': 20,\n",
        "    'Attendance': 85,\n",
        "    'Sleep_Hours': 7,\n",
        "    'Previous_Scores': 70,\n",
        "    'Tutoring_Sessions': 1,\n",
        "    'Physical_Activity': 3,\n",
        "    'Parental_Involvement_High': False,\n",
        "    'Parental_Involvement_Low': True,\n",
        "    'Parental_Involvement_Medium': False,\n",
        "    'Access_to_Resources_High': True,\n",
        "    'Access_to_Resources_Low': False,\n",
        "    'Access_to_Resources_Medium': False,\n",
        "    'Extracurricular_Activities_No': True,\n",
        "    'Extracurricular_Activities_Yes': False,\n",
        "    'Motivation_Level_High': False,\n",
        "    'Motivation_Level_Low': True,\n",
        "    'Motivation_Level_Medium': False,\n",
        "    'Internet_Access_No': False,\n",
        "    'Internet_Access_Yes': True,\n",
        "    'Family_Income_High': False,\n",
        "    'Family_Income_Low': True,\n",
        "    'Family_Income_Medium': False,\n",
        "    'Teacher_Quality_High': False,\n",
        "    'Teacher_Quality_Low': False,\n",
        "    'Teacher_Quality_Medium': True,\n",
        "    'School_Type_Private': False,\n",
        "    'School_Type_Public': True,\n",
        "    'Peer_Influence_Negative': False,\n",
        "    'Peer_Influence_Neutral': True,\n",
        "    'Peer_Influence_Positive': False,\n",
        "    'Learning_Disabilities_No': True,\n",
        "    'Learning_Disabilities_Yes': False,\n",
        "    'Parental_Education_Level_College': False,\n",
        "    'Parental_Education_Level_High School': True,\n",
        "    'Parental_Education_Level_Postgraduate': False,\n",
        "    'Distance_from_Home_Far': False,\n",
        "    'Distance_from_Home_Moderate': True,\n",
        "    'Distance_from_Home_Near': False,\n",
        "    'Gender_Female': False,\n",
        "    'Gender_Male': True\n",
        "}\n",
        "\n",
        "predicted_score = predict_exam_score(example_input)\n",
        "print(f\"Predicted Exam Score: {predicted_score:.2f}\")"
      ]
    },
    {
      "cell_type": "markdown",
      "metadata": {
        "id": "06c9dcae"
      },
      "source": [
        "## Design the web app interface\n",
        "\n",
        "### Subtask:\n",
        "Create a simple user interface using a library like `Gradio` or `Streamlit` to allow users to input feature values.\n"
      ]
    },
    {
      "cell_type": "markdown",
      "metadata": {
        "id": "24e9355a"
      },
      "source": [
        "**Reasoning**:\n",
        "Import the gradio library and define the Gradio interface components based on the features in the training data, handling the mapping from user-friendly categorical inputs to the one-hot encoded format within the prediction function.\n",
        "\n"
      ]
    },
    {
      "cell_type": "code",
      "execution_count": null,
      "metadata": {
        "colab": {
          "background_save": true,
          "base_uri": "https://localhost:8080/",
          "height": 650
        },
        "id": "8d9d13fd",
        "outputId": "59b1a8c1-e6b3-4693-ecd0-ef104f277f1e"
      },
      "outputs": [
        {
          "metadata": {
            "tags": null
          },
          "name": "stdout",
          "output_type": "stream",
          "text": [
            "It looks like you are running Gradio on a hosted Jupyter notebook, which requires `share=True`. Automatically setting `share=True` (you can turn this off by setting `share=False` in `launch()` explicitly).\n",
            "\n",
            "Colab notebook detected. This cell will run indefinitely so that you can see errors and logs. To turn off, set debug=False in launch().\n",
            "* Running on public URL: https://0d93f44a16ceb7629c.gradio.live\n",
            "\n",
            "This share link expires in 1 week. For free permanent hosting and GPU upgrades, run `gradio deploy` from the terminal in the working directory to deploy to Hugging Face Spaces (https://huggingface.co/spaces)\n"
          ]
        },
        {
          "data": {
            "text/html": [
              "<div><iframe src=\"https://0d93f44a16ceb7629c.gradio.live\" width=\"100%\" height=\"500\" allow=\"autoplay; camera; microphone; clipboard-read; clipboard-write;\" frameborder=\"0\" allowfullscreen></iframe></div>"
            ],
            "text/plain": [
              "<IPython.core.display.HTML object>"
            ]
          },
          "metadata": {},
          "output_type": "display_data"
        }
      ],
      "source": [
        "import gradio as gr\n",
        "import pandas as pd\n",
        "\n",
        "def predict_exam_score_gradio(hours_studied, attendance, parental_involvement, access_to_resources,\n",
        "                              extracurricular_activities, sleep_hours, previous_scores, motivation_level,\n",
        "                              internet_access, tutoring_sessions, family_income, teacher_quality,\n",
        "                              school_type, peer_influence, physical_activity, learning_disabilities,\n",
        "                              parental_education_level, distance_from_home, gender):\n",
        "    \"\"\"\n",
        "    Predicts student exam score based on user input from Gradio interface.\n",
        "\n",
        "    Args:\n",
        "        hours_studied (int): Hours studied.\n",
        "        attendance (int): Attendance percentage.\n",
        "        parental_involvement (str): Level of parental involvement.\n",
        "        access_to_resources (str): Access to resources level.\n",
        "        extracurricular_activities (str): Participation in extracurricular activities.\n",
        "        sleep_hours (int): Hours of sleep.\n",
        "        previous_scores (int): Previous exam scores.\n",
        "        motivation_level (str): Motivation level.\n",
        "        internet_access (str): Internet access availability.\n",
        "        tutoring_sessions (int): Number of tutoring sessions.\n",
        "        family_income (str): Family income level.\n",
        "        teacher_quality (str): Teacher quality level.\n",
        "        school_type (str): School type.\n",
        "        peer_influence (str): Peer influence type.\n",
        "        physical_activity (int): Level of physical activity.\n",
        "        learning_disabilities (str): Presence of learning disabilities.\n",
        "        parental_education_level (str): Parental education level.\n",
        "        distance_from_home (str): Distance from home.\n",
        "        gender (str): Gender.\n",
        "\n",
        "    Returns:\n",
        "        float: The predicted exam score.\n",
        "    \"\"\"\n",
        "    # Create a dictionary for the input features\n",
        "    input_features = {\n",
        "        'Hours_Studied': hours_studied,\n",
        "        'Attendance': attendance,\n",
        "        'Sleep_Hours': sleep_hours,\n",
        "        'Previous_Scores': previous_scores,\n",
        "        'Tutoring_Sessions': tutoring_sessions,\n",
        "        'Physical_Activity': physical_activity,\n",
        "        'Gender_Female': gender == 'Female',\n",
        "        'Gender_Male': gender == 'Male' if gender else False, # Handle potential None if not selected\n",
        "        'Parental_Involvement_High': parental_involvement == 'High',\n",
        "        'Parental_Involvement_Low': parental_involvement == 'Low',\n",
        "        'Parental_Involvement_Medium': parental_involvement == 'Medium',\n",
        "        'Access_to_Resources_High': access_to_resources == 'High',\n",
        "        'Access_to_Resources_Low': access_to_resources == 'Low',\n",
        "        'Access_to_Resources_Medium': access_to_resources == 'Medium',\n",
        "        'Extracurricular_Activities_No': extracurricular_activities == 'No',\n",
        "        'Extracurricular_Activities_Yes': extracurricular_activities == 'Yes',\n",
        "        'Motivation_Level_High': motivation_level == 'High',\n",
        "        'Motivation_Level_Low': motivation_level == 'Low',\n",
        "        'Motivation_Level_Medium': motivation_level == 'Medium',\n",
        "        'Internet_Access_No': internet_access == 'No',\n",
        "        'Internet_Access_Yes': internet_access == 'Yes',\n",
        "        'Family_Income_High': family_income == 'High',\n",
        "        'Family_Income_Low': family_income == 'Low',\n",
        "        'Family_Income_Medium': family_income == 'Medium',\n",
        "        'Teacher_Quality_High': teacher_quality == 'High',\n",
        "        'Teacher_Quality_Low': teacher_quality == 'Low',\n",
        "        'Teacher_Quality_Medium': teacher_quality == 'Medium',\n",
        "        'School_Type_Private': school_type == 'Private',\n",
        "        'School_Type_Public': school_type == 'Public',\n",
        "        'Peer_Influence_Negative': peer_influence == 'Negative',\n",
        "        'Peer_Influence_Neutral': peer_influence == 'Neutral',\n",
        "        'Peer_Influence_Positive': peer_influence == 'Positive',\n",
        "        'Learning_Disabilities_No': learning_disabilities == 'No',\n",
        "        'Learning_Disabilities_Yes': learning_disabilities == 'Yes',\n",
        "        'Parental_Education_Level_College': parental_education_level == 'College',\n",
        "        'Parental_Education_Level_High School': parental_education_level == 'High School',\n",
        "        'Parental_Education_Level_Postgraduate': parental_education_level == 'Postgraduate',\n",
        "        'Distance_from_Home_Far': distance_from_home == 'Far',\n",
        "        'Distance_from_Home_Moderate': distance_from_home == 'Moderate',\n",
        "        'Distance_from_Home_Near': distance_from_home == 'Near'\n",
        "    }\n",
        "\n",
        "    # Convert boolean values to integers (0 or 1)\n",
        "    for key, value in input_features.items():\n",
        "        if isinstance(value, bool):\n",
        "            input_features[key] = int(value)\n",
        "\n",
        "\n",
        "    # Create a DataFrame from the input features\n",
        "    input_df = pd.DataFrame([input_features])\n",
        "\n",
        "    # Ensure column order matches training data\n",
        "    # Assuming X_train.columns is available from previous steps\n",
        "    input_df = input_df.reindex(columns=X_train.columns, fill_value=0)\n",
        "\n",
        "    # Load the trained model\n",
        "    loaded_model = joblib.load('random_forest_model.joblib')\n",
        "\n",
        "    # Make prediction\n",
        "    predicted_score = loaded_model.predict(input_df)[0]\n",
        "\n",
        "    return predicted_score\n",
        "\n",
        "# Define Gradio input components\n",
        "inputs = [\n",
        "    gr.Number(label=\"Hours Studied\", minimum=0, maximum=50),\n",
        "    gr.Number(label=\"Attendance (%)\", minimum=0, maximum=100),\n",
        "    gr.Dropdown(['Low', 'Medium', 'High'], label=\"Parental Involvement\"),\n",
        "    gr.Dropdown(['Low', 'Medium', 'High'], label=\"Access to Resources\"),\n",
        "    gr.Radio(['Yes', 'No'], label=\"Extracurricular Activities\"),\n",
        "    gr.Number(label=\"Sleep Hours\", minimum=0, maximum=12),\n",
        "    gr.Number(label=\"Previous Scores\", minimum=0, maximum=100),\n",
        "    gr.Dropdown(['Low', 'Medium', 'High'], label=\"Motivation Level\"),\n",
        "    gr.Radio(['Yes', 'No'], label=\"Internet Access\"),\n",
        "    gr.Number(label=\"Tutoring Sessions\", minimum=0),\n",
        "    gr.Dropdown(['Low', 'Medium', 'High'], label=\"Family Income\"),\n",
        "    gr.Dropdown(['Low', 'Medium', 'High'], label=\"Teacher Quality\"),\n",
        "    gr.Radio(['Public', 'Private'], label=\"School Type\"),\n",
        "    gr.Dropdown(['Negative', 'Neutral', 'Positive'], label=\"Peer Influence\"),\n",
        "    gr.Number(label=\"Physical Activity (hours/week)\", minimum=0),\n",
        "    gr.Radio(['Yes', 'No'], label=\"Learning Disabilities\"),\n",
        "    gr.Dropdown(['High School', 'College', 'Postgraduate'], label=\"Parental Education Level\"),\n",
        "    gr.Dropdown(['Near', 'Moderate', 'Far'], label=\"Distance from Home\"),\n",
        "    gr.Radio(['Male', 'Female'], label=\"Gender\")\n",
        "]\n",
        "\n",
        "# Define Gradio output component\n",
        "output = gr.Label(label=\"Predicted Exam Score\")\n",
        "\n",
        "# Create Gradio Interface\n",
        "interface = gr.Interface(\n",
        "    fn=predict_exam_score_gradio,\n",
        "    inputs=inputs,\n",
        "    outputs=output,\n",
        "    title=\"Student Exam Score Prediction\"\n",
        ")\n",
        "\n",
        "# Launch the interface\n",
        "interface.launch(debug=True)"
      ]
    }
  ],
  "metadata": {
    "colab": {
      "provenance": [],
      "authorship_tag": "ABX9TyO0PPdWD3J9rZHIQDSfRrNb",
      "include_colab_link": true
    },
    "kernelspec": {
      "display_name": "Python 3",
      "name": "python3"
    },
    "language_info": {
      "name": "python"
    }
  },
  "nbformat": 4,
  "nbformat_minor": 0
}